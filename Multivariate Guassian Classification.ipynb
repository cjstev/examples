{
 "cells": [
  {
   "cell_type": "markdown",
   "metadata": {},
   "source": [
    "## Problem Statement"
   ]
  },
  {
   "cell_type": "markdown",
   "metadata": {},
   "source": [
    "Build a multivariate gaussian classifier, with 784 dimensions, that classifies hand written digits from the MNIST data set.  Data can be optained from http://yann.lecun.com/exdb/mnist/index.html."
   ]
  },
  {
   "cell_type": "markdown",
   "metadata": {},
   "source": [
    "### Load functions and modules"
   ]
  },
  {
   "cell_type": "code",
   "execution_count": 2,
   "metadata": {
    "collapsed": true
   },
   "outputs": [],
   "source": [
    "from numpy.linalg import inv\n",
    "from scipy.stats import multivariate_normal \n",
    "from struct import unpack\n",
    "import numpy as np\n",
    "import matplotlib.pylab as plt \n",
    "from numpy import log\n",
    "from numpy import random\n",
    "import numpy as np\n",
    "%matplotlib inline\n",
    "import matplotlib.pyplot as plt\n",
    "\n",
    "def loadmnist(imagefile, labelfile):\n",
    "\n",
    "    # Open the images with gzip in read binary mode\n",
    "    images = open(imagefile, 'rb')\n",
    "    labels = open(labelfile, 'rb')\n",
    "\n",
    "    # Get metadata for images\n",
    "    images.read(4)  # skip the magic_number\n",
    "    number_of_images = images.read(4)\n",
    "    number_of_images = unpack('>I', number_of_images)[0]\n",
    "    rows = images.read(4)\n",
    "    rows = unpack('>I', rows)[0]\n",
    "    cols = images.read(4)\n",
    "    cols = unpack('>I', cols)[0]\n",
    "\n",
    "    # Get metadata for labels\n",
    "    labels.read(4)\n",
    "    N = labels.read(4)\n",
    "    N = unpack('>I', N)[0]\n",
    "\n",
    "    # Get data\n",
    "    x = np.zeros((N, rows*cols), dtype=np.uint8)  # Initialize numpy array\n",
    "    y = np.zeros(N, dtype=np.uint8)  # Initialize numpy array\n",
    "    for i in range(N):\n",
    "        for j in range(rows*cols):\n",
    "            tmp_pixel = images.read(1)  # Just a single byte\n",
    "            tmp_pixel = unpack('>B', tmp_pixel)[0]\n",
    "            x[i][j] = tmp_pixel\n",
    "        tmp_label = labels.read(1)\n",
    "        y[i] = unpack('>B', tmp_label)[0]\n",
    "\n",
    "    images.close()\n",
    "    labels.close()\n",
    "    return (x, y)\n",
    "\n",
    "def displaychar(image):\n",
    "    plt.imshow(np.reshape(image, (28,28)), cmap=plt.cm.gray)\n",
    "    plt.axis('off')\n",
    "    plt.show()"
   ]
  },
  {
   "cell_type": "markdown",
   "metadata": {},
   "source": [
    "### Load Data"
   ]
  },
  {
   "cell_type": "code",
   "execution_count": 3,
   "metadata": {
    "collapsed": false,
    "scrolled": true
   },
   "outputs": [
    {
     "name": "stdout",
     "output_type": "stream",
     "text": [
      "/Users/cjstev/Documents/DSE/c1steven/DSE210/MNIST\n"
     ]
    }
   ],
   "source": [
    "%cd ~/Documents/DSE/c1steven/DSE210/MNIST\n",
    "x,y = loadmnist('train-images-idx3-ubyte','train-labels-idx1-ubyte')\n",
    "xtest,ytest = loadmnist('t10k-images-idx3-ubyte','t10k-labels-idx1-ubyte')"
   ]
  },
  {
   "cell_type": "markdown",
   "metadata": {
    "collapsed": true
   },
   "source": [
    "### Create Training and Validation Sets"
   ]
  },
  {
   "cell_type": "code",
   "execution_count": 4,
   "metadata": {
    "collapsed": false
   },
   "outputs": [],
   "source": [
    "import random\n",
    "random.seed(50)\n",
    "mask = random.sample(range(0, len(x)), 50000)\n",
    "invmask = list(set(np.arange(60000))-set(mask))\n",
    "xtrain = x[mask]\n",
    "xvalid = x[invmask]\n",
    "ytrain = y[mask]\n",
    "yvalid = y[invmask]"
   ]
  },
  {
   "cell_type": "markdown",
   "metadata": {},
   "source": [
    "### Create Class Probabilities (Pi)"
   ]
  },
  {
   "cell_type": "code",
   "execution_count": 5,
   "metadata": {
    "collapsed": false
   },
   "outputs": [],
   "source": [
    "class_dict = {}\n",
    "for i in np.unique(ytrain):\n",
    "    class_dict[i]= sum(ytrain==i)*1.0/len(ytrain)"
   ]
  },
  {
   "cell_type": "markdown",
   "metadata": {},
   "source": [
    "### Create Mean Vector of Multi-variate Guassian "
   ]
  },
  {
   "cell_type": "code",
   "execution_count": 6,
   "metadata": {
    "collapsed": true
   },
   "outputs": [],
   "source": [
    "xtrain_mu = {}\n",
    "for i in np.unique(ytrain):\n",
    "    xtrain_mu[i]=np.mean(xtrain[ytrain==i],axis=0)"
   ]
  },
  {
   "cell_type": "markdown",
   "metadata": {},
   "source": [
    "### Create Covariate Matrix of Multi-variate Guassian "
   ]
  },
  {
   "cell_type": "code",
   "execution_count": 7,
   "metadata": {
    "collapsed": true
   },
   "outputs": [],
   "source": [
    "xtrain_cov = {}\n",
    "for i in np.unique(ytrain):\n",
    "    xtrain_cov[i]=np.cov(xtrain[ytrain==i].transpose())"
   ]
  },
  {
   "cell_type": "markdown",
   "metadata": {},
   "source": [
    "### Create Function to test different smoothing coefficients - c"
   ]
  },
  {
   "cell_type": "code",
   "execution_count": 8,
   "metadata": {
    "collapsed": false
   },
   "outputs": [],
   "source": [
    "##improved\n",
    "def myfitter(xvalid,c):\n",
    "    myeye = np.eye(784)*c\n",
    "    myarray = np.empty(shape=[len(xvalid),0])\n",
    "\n",
    "    for i in range(10):\n",
    "        fit_test = log(class_dict[i])+multivariate_normal.logpdf(xvalid,mean=xtrain_mu[i],\n",
    "                                                            cov = (xtrain_cov[i]+myeye))\n",
    "\n",
    "        myarray=np.append(myarray,fit_test)\n",
    "    #predlist.append(mylist.index(max(mylist)))\n",
    "    myarray = np.reshape(myarray,(10,len(xvalid)))\n",
    "    predlist = np.argmax(myarray,axis=0)\n",
    "    return sum(predlist==yvalid)*1.0/len(yvalid)"
   ]
  },
  {
   "cell_type": "markdown",
   "metadata": {},
   "source": [
    "### Create different c values and pass them through the above function"
   ]
  },
  {
   "cell_type": "code",
   "execution_count": 9,
   "metadata": {
    "collapsed": false
   },
   "outputs": [],
   "source": [
    "steps = np.arange(100,10001,100)\n",
    "acc = [myfitter(xvalid,k) for k in steps]"
   ]
  },
  {
   "cell_type": "markdown",
   "metadata": {},
   "source": [
    "### Plot Results"
   ]
  },
  {
   "cell_type": "code",
   "execution_count": 10,
   "metadata": {
    "collapsed": false,
    "scrolled": true
   },
   "outputs": [
    {
     "data": {
      "text/plain": [
       "<matplotlib.collections.PathCollection at 0x10f501e50>"
      ]
     },
     "execution_count": 10,
     "metadata": {},
     "output_type": "execute_result"
    },
    {
     "data": {
      "image/png": "[encoded data removed]",
      "text/plain": [
       "<matplotlib.figure.Figure at 0x106fd2190>"
      ]
     },
     "metadata": {},
     "output_type": "display_data"
    }
   ],
   "source": [
    "plt.scatter(steps,acc)"
   ]
  },
  {
   "cell_type": "markdown",
   "metadata": {},
   "source": [
    "The results show that the accuracy of the prediction improves until about a C = 2000, then slowly erodes as C gets large."
   ]
  },
  {
   "cell_type": "markdown",
   "metadata": {},
   "source": [
    "### Find C value that yields maximum accuracy"
   ]
  },
  {
   "cell_type": "code",
   "execution_count": 11,
   "metadata": {
    "collapsed": false,
    "scrolled": false
   },
   "outputs": [
    {
     "data": {
      "text/plain": [
       "2500"
      ]
     },
     "execution_count": 11,
     "metadata": {},
     "output_type": "execute_result"
    }
   ],
   "source": [
    "steps[acc.index(max(acc))]"
   ]
  },
  {
   "cell_type": "markdown",
   "metadata": {},
   "source": [
    "### Refit entire training set and predict the test set with c = 3400"
   ]
  },
  {
   "cell_type": "code",
   "execution_count": 12,
   "metadata": {
    "collapsed": false
   },
   "outputs": [],
   "source": [
    "class_dict = {}\n",
    "for i in np.unique(y):\n",
    "    class_dict[i]= sum(y==i)*1.0/len(y)"
   ]
  },
  {
   "cell_type": "code",
   "execution_count": 13,
   "metadata": {
    "collapsed": false
   },
   "outputs": [],
   "source": [
    "x_mu = {}\n",
    "for i in np.unique(y):\n",
    "    x_mu[i]=np.mean(x[y==i],axis=0)"
   ]
  },
  {
   "cell_type": "code",
   "execution_count": 14,
   "metadata": {
    "collapsed": true
   },
   "outputs": [],
   "source": [
    "x_cov = {}\n",
    "for i in np.unique(y):\n",
    "    x_cov[i]=np.cov(x[y==i].transpose())"
   ]
  },
  {
   "cell_type": "code",
   "execution_count": 15,
   "metadata": {
    "collapsed": false,
    "scrolled": true
   },
   "outputs": [
    {
     "data": {
      "text/plain": [
       "(0.95660000000000001, 0.043399999999999994)"
      ]
     },
     "execution_count": 15,
     "metadata": {},
     "output_type": "execute_result"
    }
   ],
   "source": [
    "myarray = np.empty(shape=[10000,0])\n",
    "c=steps[acc.index(max(acc))]\n",
    "myeye = np.eye(784)*c\n",
    "for i in range(10):\n",
    "    fit_test = log(class_dict[i])+multivariate_normal.logpdf(xtest,mean=x_mu[i],\n",
    "                                                        cov = (x_cov[i]+myeye))\n",
    "\n",
    "    myarray=np.append(myarray,fit_test)\n",
    "\n",
    "myarray = np.reshape(myarray,(10,10000))\n",
    "predlist = np.argmax(myarray,axis=0)\n",
    "sum(predlist==ytest)*1.0/len(ytest),1-sum(predlist==ytest)*1.0/len(ytest)"
   ]
  },
  {
   "cell_type": "markdown",
   "metadata": {},
   "source": [
    "95.66% accuracy and 4.34% error rate!"
   ]
  },
  {
   "cell_type": "markdown",
   "metadata": {},
   "source": [
    "### Refit entire training set and predict the test set with optimal C value"
   ]
  },
  {
   "cell_type": "code",
   "execution_count": 16,
   "metadata": {
    "collapsed": false
   },
   "outputs": [],
   "source": [
    "todisplay = xtest[predlist!=ytest ]"
   ]
  },
  {
   "cell_type": "code",
   "execution_count": 17,
   "metadata": {
    "collapsed": true
   },
   "outputs": [],
   "source": [
    "mymask=np.random.randint(len(todisplay),size=5)"
   ]
  },
  {
   "cell_type": "code",
   "execution_count": 18,
   "metadata": {
    "collapsed": false,
    "scrolled": true
   },
   "outputs": [],
   "source": [
    "todisplay = todisplay[mymask,:]"
   ]
  },
  {
   "cell_type": "code",
   "execution_count": 19,
   "metadata": {
    "collapsed": false,
    "scrolled": false
   },
   "outputs": [
    {
     "name": "stdout",
     "output_type": "stream",
     "text": [
      "Examples of misclassification and appropriate posterior probabilities:\n"
     ]
    },
    {
     "data": {
      "image/png": "[encoded data removed]",
      "text/plain": [
       "<matplotlib.figure.Figure at 0x115c9a850>"
      ]
     },
     "metadata": {},
     "output_type": "display_data"
    },
    {
     "name": "stdout",
     "output_type": "stream",
     "text": [
      "Prob of 0 is 9.73%\n",
      "Prob of 1 is 10.63%\n",
      "Prob of 2 is 9.86%\n",
      "Prob of 3 is 9.86%\n",
      "Prob of 4 is 9.96%\n",
      "Prob of 5 is 9.76%\n",
      "Prob of 6 is 9.86%\n",
      "Prob of 7 is 10.28%\n",
      "Prob of 8 is 9.96%\n",
      "Prob of 9 is 10.10%\n"
     ]
    },
    {
     "data": {
      "image/png": "[encoded data removed]",
      "text/plain": [
       "<matplotlib.figure.Figure at 0x118a99f10>"
      ]
     },
     "metadata": {},
     "output_type": "display_data"
    },
    {
     "name": "stdout",
     "output_type": "stream",
     "text": [
      "Prob of 0 is 10.04%\n",
      "Prob of 1 is 10.15%\n",
      "Prob of 2 is 10.08%\n",
      "Prob of 3 is 9.95%\n",
      "Prob of 4 is 9.96%\n",
      "Prob of 5 is 9.91%\n",
      "Prob of 6 is 10.04%\n",
      "Prob of 7 is 9.95%\n",
      "Prob of 8 is 9.96%\n",
      "Prob of 9 is 9.96%\n"
     ]
    },
    {
     "data": {
      "image/png": "[encoded data removed]",
      "text/plain": [
       "<matplotlib.figure.Figure at 0x118d9ff10>"
      ]
     },
     "metadata": {},
     "output_type": "display_data"
    },
    {
     "name": "stdout",
     "output_type": "stream",
     "text": [
      "Prob of 0 is 10.13%\n",
      "Prob of 1 is 10.10%\n",
      "Prob of 2 is 10.05%\n",
      "Prob of 3 is 10.02%\n",
      "Prob of 4 is 9.87%\n",
      "Prob of 5 is 10.00%\n",
      "Prob of 6 is 10.01%\n",
      "Prob of 7 is 10.01%\n",
      "Prob of 8 is 9.92%\n",
      "Prob of 9 is 9.90%\n"
     ]
    },
    {
     "data": {
      "image/png": "[encoded data removed]",
      "text/plain": [
       "<matplotlib.figure.Figure at 0x119c7be90>"
      ]
     },
     "metadata": {},
     "output_type": "display_data"
    },
    {
     "name": "stdout",
     "output_type": "stream",
     "text": [
      "Prob of 0 is 10.15%\n",
      "Prob of 1 is 10.22%\n",
      "Prob of 2 is 10.08%\n",
      "Prob of 3 is 10.00%\n",
      "Prob of 4 is 9.78%\n",
      "Prob of 5 is 10.06%\n",
      "Prob of 6 is 10.15%\n",
      "Prob of 7 is 9.86%\n",
      "Prob of 8 is 9.94%\n",
      "Prob of 9 is 9.76%\n"
     ]
    },
    {
     "data": {
      "image/png": "[encoded data removed]",
      "text/plain": [
       "<matplotlib.figure.Figure at 0x119dc4f50>"
      ]
     },
     "metadata": {},
     "output_type": "display_data"
    },
    {
     "name": "stdout",
     "output_type": "stream",
     "text": [
      "Prob of 0 is 10.02%\n",
      "Prob of 1 is 9.83%\n",
      "Prob of 2 is 9.98%\n",
      "Prob of 3 is 9.99%\n",
      "Prob of 4 is 10.06%\n",
      "Prob of 5 is 10.03%\n",
      "Prob of 6 is 10.15%\n",
      "Prob of 7 is 10.03%\n",
      "Prob of 8 is 9.87%\n",
      "Prob of 9 is 10.04%\n"
     ]
    }
   ],
   "source": [
    "print \"Examples of misclassification and appropriate posterior probabilities:\"\n",
    "for i in todisplay:\n",
    "    myProbList=[]\n",
    "    displaychar(i)\n",
    "    for k in range(10):\n",
    "        myprob = log(class_dict[k])+multivariate_normal.logpdf(i,mean=x_mu[k],\n",
    "                                                        cov = (x_cov[k]+myeye))\n",
    "        myProbList.append(myprob)\n",
    "    for k in range(10):\n",
    "        myPostProb = myProbList[k]/sum(myProbList)\n",
    "        \n",
    "        print \"Prob of {0} is {1:.2f}%\".format(k,myPostProb*100)"
   ]
  },
  {
   "cell_type": "code",
   "execution_count": null,
   "metadata": {
    "collapsed": true
   },
   "outputs": [],
   "source": []
  }
 ],
 "metadata": {
  "kernelspec": {
   "display_name": "Python 2",
   "language": "python",
   "name": "python2"
  },
  "language_info": {
   "codemirror_mode": {
    "name": "ipython",
    "version": 2
   },
   "file_extension": ".py",
   "mimetype": "text/x-python",
   "name": "python",
   "nbconvert_exporter": "python",
   "pygments_lexer": "ipython2",
   "version": "2.7.11"
  }
 },
 "nbformat": 4,
 "nbformat_minor": 0
}
